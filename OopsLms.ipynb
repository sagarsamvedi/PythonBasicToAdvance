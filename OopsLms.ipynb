{
 "cells": [
  {
   "cell_type": "markdown",
   "id": "c3ff4d6f",
   "metadata": {},
   "source": [
    "## Single Inheritance"
   ]
  },
  {
   "cell_type": "code",
   "execution_count": 5,
   "id": "5f33cf50",
   "metadata": {},
   "outputs": [],
   "source": [
    "# Person class\n",
    "class Person:\n",
    "    def __init__(self, name, age):\n",
    "        self.name = name\n",
    "        self.age = age\n",
    "\n",
    "# Student class inherits from Person\n",
    "class Student(Person):\n",
    "    def __init__(self, name, age, student_id, grade):\n",
    "        super().__init__(name, age)\n",
    "        self.student_id = student_id\n",
    "        self.grade = grade"
   ]
  },
  {
   "cell_type": "code",
   "execution_count": 6,
   "id": "16b67fe9",
   "metadata": {},
   "outputs": [],
   "source": [
    "# Shape class\n",
    "class Shape:\n",
    "    def calculate_area(self):\n",
    "        pass\n",
    "\n",
    "    def calculate_perimeter(self):\n",
    "        pass\n",
    "\n",
    "# Rectangle class inherits from Shape\n",
    "class Rectangle(Shape):\n",
    "    def __init__(self, length, width):\n",
    "        self.length = length\n",
    "        self.width = width\n",
    "\n",
    "    def calculate_area(self):\n",
    "        return self.length * self.width\n",
    "\n",
    "    def calculate_perimeter(self):\n",
    "        return 2 * (self.length + self.width)"
   ]
  },
  {
   "cell_type": "code",
   "execution_count": 7,
   "id": "0622cfa6",
   "metadata": {},
   "outputs": [],
   "source": [
    "# Animal class\n",
    "class Animal:\n",
    "    def make_sound(self):\n",
    "        pass\n",
    "\n",
    "# Dog class inherits from Animal\n",
    "class Dog(Animal):\n",
    "    def bark(self):\n",
    "        return \"Woof! Woof!\""
   ]
  },
  {
   "cell_type": "code",
   "execution_count": 8,
   "id": "6e02c253",
   "metadata": {},
   "outputs": [],
   "source": [
    "# Vehicle class\n",
    "class Vehicle:\n",
    "    def __init__(self, make, model):\n",
    "        self.make = make\n",
    "        self.model = model\n",
    "\n",
    "# Car class inherits from Vehicle\n",
    "class Car(Vehicle):\n",
    "    def __init__(self, make, model, color, fuel_type):\n",
    "        super().__init__(make, model)\n",
    "        self.color = color\n",
    "        self.fuel_type = fuel_type"
   ]
  },
  {
   "cell_type": "code",
   "execution_count": 9,
   "id": "50c95e94",
   "metadata": {},
   "outputs": [],
   "source": [
    "# Employee class\n",
    "class Employee:\n",
    "    def __init__(self, employee_id, salary):\n",
    "        self.employee_id = employee_id\n",
    "        self.salary = salary\n",
    "\n",
    "# Manager class inherits from Employee\n",
    "class Manager(Employee):\n",
    "    def __init__(self, employee_id, salary, team_size):\n",
    "        super().__init__(employee_id, salary)\n",
    "        self.team_size = team_size"
   ]
  },
  {
   "cell_type": "markdown",
   "id": "56870b40",
   "metadata": {},
   "source": [
    "## Multiple Inheritance"
   ]
  },
  {
   "cell_type": "code",
   "execution_count": 17,
   "id": "b7089f91",
   "metadata": {},
   "outputs": [],
   "source": [
    "# MobileDevice class\n",
    "class MobileDevice:\n",
    "    def __init__(self, brand, model):\n",
    "        self.brand = brand\n",
    "        self.model = model\n",
    "\n",
    "# CameraMixin class\n",
    "class Camera:\n",
    "    def __init__(self, resolution):\n",
    "        self.resolution = resolution\n",
    "\n",
    "# Phone class inherits from MobileDevice and uses Camera\n",
    "class Phone(MobileDevice, Camera):\n",
    "    def __init__(self, brand, model, resolution, phone_number):\n",
    "        MobileDevice.__init__(self, brand, model)\n",
    "        Camera.__init__(self, resolution)\n",
    "        self.phone_number = phone_number"
   ]
  },
  {
   "cell_type": "code",
   "execution_count": 21,
   "id": "71acfb92",
   "metadata": {},
   "outputs": [],
   "source": [
    "# BankAccount class\n",
    "class BankAccount:\n",
    "    def __init__(self, balance):\n",
    "        self.balance = balance\n",
    "\n",
    "    def deposit(self, amount):\n",
    "        self.balance += amount\n",
    "\n",
    "    def withdraw(self, amount):\n",
    "        if amount <= self.balance:\n",
    "            self.balance -= amount\n",
    "        else:\n",
    "            print(\"Insufficient funds!\")\n",
    "            \n",
    "# InterestCalculator class\n",
    "class InterestCalculator:\n",
    "    def calculate_interest(self):\n",
    "        return self.balance * 0.05\n",
    "\n",
    "# SavingsAccount class inherits from both BankAccount and InterestCalculator\n",
    "class SavingsAccount(BankAccount, InterestCalculator):\n",
    "    def __init__(self, balance):\n",
    "        BankAccount.__init__(self, balance)\n",
    "        InterestCalculator.__init__(self)            "
   ]
  },
  {
   "cell_type": "code",
   "execution_count": 22,
   "id": "403c0d30",
   "metadata": {},
   "outputs": [],
   "source": [
    "# Bird class\n",
    "class Bird:\n",
    "    def fly(self):\n",
    "        print(\"Flying high!\")\n",
    "\n",
    "# Penguin class inherits from Bird\n",
    "class Penguin(Bird):\n",
    "    def swim(self):\n",
    "        print(\"Swimming gracefully!\")\n",
    "\n",
    "# Fish class\n",
    "class Fish:\n",
    "    def swim(self):\n",
    "        print(\"Swimming underwater!\")\n",
    "\n",
    "# FlyingFish class inherits from both Bird and Fish\n",
    "class FlyingFish(Bird, Fish):\n",
    "    pass"
   ]
  },
  {
   "cell_type": "code",
   "execution_count": 24,
   "id": "6ed036ce",
   "metadata": {},
   "outputs": [],
   "source": [
    "# ElectronicDevice class\n",
    "class ElectronicDevice:\n",
    "    def turn_on(self):\n",
    "        print(\"Device is turning on.\")\n",
    "\n",
    "    def turn_off(self):\n",
    "        print(\"Device is turning off.\")\n",
    "\n",
    "# Smartphone class inherits from ElectronicDevice\n",
    "class Smartphone:\n",
    "    def make_call(self):\n",
    "        print(\"Making a call.\")\n",
    "\n",
    "# FitnessTracker class inherits from both ElectronicDevice and Smartphone\n",
    "class FitnessTracker(ElectronicDevice, Smartphone):\n",
    "    pass\n"
   ]
  },
  {
   "cell_type": "code",
   "execution_count": 27,
   "id": "b03c03d8",
   "metadata": {},
   "outputs": [],
   "source": [
    "# Clothing class\n",
    "class Clothing:\n",
    "    def __init__(self, size, color):\n",
    "        self.size = size\n",
    "        self.color = color\n",
    "\n",
    "# Shirt class inherits from Clothing\n",
    "class Shirt:\n",
    "    def __init__(self,pattern):\n",
    "        self.pattern = pattern\n",
    "\n",
    "# Jacket class inherits from both Clothing and Shirt\n",
    "class Jacket(Clothing, Shirt):\n",
    "    def __init__(self, size, color, pattern, material):\n",
    "        Clothing.__init__(self, size, color)\n",
    "        Shirt.__init__(self,pattern)\n",
    "        self.material = material\n"
   ]
  },
  {
   "cell_type": "markdown",
   "id": "d9169947",
   "metadata": {},
   "source": [
    "## Multilevel Inheritance"
   ]
  },
  {
   "cell_type": "code",
   "execution_count": 28,
   "id": "d661f333",
   "metadata": {},
   "outputs": [],
   "source": [
    "# Animal class\n",
    "class Animal:\n",
    "    def eat(self):\n",
    "        print(\"Animal is eating.\")\n",
    "\n",
    "    def sleep(self):\n",
    "        print(\"Animal is sleeping.\")\n",
    "\n",
    "# Mammal class inherits from Animal\n",
    "class Mammal(Animal):\n",
    "    def give_birth(self):\n",
    "        print(\"Mammal is giving birth.\")\n",
    "\n",
    "# Dog class inherits from Mammal\n",
    "class Dog(Mammal):\n",
    "    def bark(self):\n",
    "        print(\"Dog is barking.\")"
   ]
  },
  {
   "cell_type": "code",
   "execution_count": 29,
   "id": "a309c03a",
   "metadata": {},
   "outputs": [],
   "source": [
    "# Vehicle class\n",
    "class Vehicle:\n",
    "    def start(self):\n",
    "        print(\"Vehicle is starting.\")\n",
    "\n",
    "    def stop(self):\n",
    "        print(\"Vehicle is stopping.\")\n",
    "\n",
    "# Car class inherits from Vehicle\n",
    "class Car(Vehicle):\n",
    "    def drive(self):\n",
    "        print(\"Car is driving.\")\n",
    "\n",
    "# LuxuryCar class inherits from Car\n",
    "class LuxuryCar(Car):\n",
    "    def autopilot(self):\n",
    "        print(\"LuxuryCar has autopilot feature.\")"
   ]
  },
  {
   "cell_type": "code",
   "execution_count": 30,
   "id": "03bdc7e3",
   "metadata": {},
   "outputs": [],
   "source": [
    "# Electronics class\n",
    "class Electronics:\n",
    "    def power_on(self):\n",
    "        print(\"Electronic device is powering on.\")\n",
    "\n",
    "    def power_off(self):\n",
    "        print(\"Electronic device is powering off.\")\n",
    "\n",
    "# Computer class inherits from Electronics\n",
    "class Computer(Electronics):\n",
    "    def process_data(self):\n",
    "        print(\"Computer is processing data.\")\n",
    "\n",
    "# Laptop class inherits from Computer\n",
    "class Laptop(Computer):\n",
    "    def carry(self):\n",
    "        print(\"Laptop is portable and can be carried.\")"
   ]
  },
  {
   "cell_type": "code",
   "execution_count": 31,
   "id": "3cdba48c",
   "metadata": {},
   "outputs": [],
   "source": [
    "# Furniture class\n",
    "class Furniture:\n",
    "    def assemble(self):\n",
    "        print(\"Furniture is being assembled.\")\n",
    "\n",
    "    def disassemble(self):\n",
    "        print(\"Furniture is being disassembled.\")\n",
    "\n",
    "# Chair class inherits from Furniture\n",
    "class Chair(Furniture):\n",
    "    def sit(self):\n",
    "        print(\"Sitting on the chair.\")\n",
    "\n",
    "# RecliningChair class inherits from Chair\n",
    "class RecliningChair(Chair):\n",
    "    def recline(self):\n",
    "        print(\"Reclining chair is reclining.\")"
   ]
  },
  {
   "cell_type": "code",
   "execution_count": 32,
   "id": "bee87193",
   "metadata": {},
   "outputs": [],
   "source": [
    "# KitchenAppliance class\n",
    "class KitchenAppliance:\n",
    "    def cook(self):\n",
    "        print(\"Kitchen appliance is cooking.\")\n",
    "\n",
    "    def clean(self):\n",
    "        print(\"Kitchen appliance is cleaning.\")\n",
    "\n",
    "# Microwave class inherits from KitchenAppliance\n",
    "class Microwave(KitchenAppliance):\n",
    "    def defrost(self):\n",
    "        print(\"Microwave is defrosting.\")\n",
    "\n",
    "# ConvectionMicrowave class inherits from Microwave\n",
    "class ConvectionMicrowave(Microwave):\n",
    "    def bake(self):\n",
    "        print(\"Convection microwave is baking.\")"
   ]
  }
 ],
 "metadata": {
  "kernelspec": {
   "display_name": "Python 3 (ipykernel)",
   "language": "python",
   "name": "python3"
  },
  "language_info": {
   "codemirror_mode": {
    "name": "ipython",
    "version": 3
   },
   "file_extension": ".py",
   "mimetype": "text/x-python",
   "name": "python",
   "nbconvert_exporter": "python",
   "pygments_lexer": "ipython3",
   "version": "3.10.1"
  }
 },
 "nbformat": 4,
 "nbformat_minor": 5
}
