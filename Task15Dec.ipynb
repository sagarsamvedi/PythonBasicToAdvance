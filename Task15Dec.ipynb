{
 "cells": [
  {
   "cell_type": "markdown",
   "id": "22f89675",
   "metadata": {},
   "source": [
    "Make class calculaor -> add functions like + - X and /\n",
    "\n",
    "Find length and breadth of rectangle\n",
    "\n",
    "Array tricky question\n",
    "\n",
    "Reverse dictionary and change values of reversed elements\n",
    "\n",
    "Find common elements\n",
    "\n",
    "Find the missing element from 1 to n terms in array\n"
   ]
  },
  {
   "cell_type": "markdown",
   "id": "06f8ddb1",
   "metadata": {},
   "source": [
    "Question 1"
   ]
  },
  {
   "cell_type": "code",
   "execution_count": 1,
   "id": "ddf991ab",
   "metadata": {},
   "outputs": [],
   "source": [
    "class Calculator:\n",
    "    def add(self,a,b):\n",
    "        return a+b\n",
    "    def sub(self,a,b):\n",
    "        return a-b\n",
    "    def product(self,a,b):\n",
    "        return a*b\n",
    "    def divide(self,a,b):\n",
    "        return a//b\n",
    "    "
   ]
  },
  {
   "cell_type": "markdown",
   "id": "c217218b",
   "metadata": {},
   "source": [
    "Question 2"
   ]
  },
  {
   "cell_type": "code",
   "execution_count": 4,
   "id": "ec4565b2",
   "metadata": {},
   "outputs": [],
   "source": [
    "class Rectangle:\n",
    "    def __init__(self,perimeter,breadth):\n",
    "        self.perimeter = perimeter\n",
    "        self.breadth = breadth\n",
    "    def get_length(self):\n",
    "        return self.perimeter - self.breadth\n",
    "    def get_area(self):\n",
    "        length = self.perimeter - self.breadth\n",
    "        return 2 * (length + self.breadth)"
   ]
  },
  {
   "cell_type": "markdown",
   "id": "ec4c726a",
   "metadata": {},
   "source": [
    "Question 3"
   ]
  },
  {
   "cell_type": "code",
   "execution_count": 10,
   "id": "ba883d82",
   "metadata": {},
   "outputs": [],
   "source": [
    "arr = [1,2,3,'[[',4,5,']]]',6]"
   ]
  },
  {
   "cell_type": "code",
   "execution_count": 12,
   "id": "2220d18e",
   "metadata": {},
   "outputs": [],
   "source": [
    "arr.remove('[[')"
   ]
  },
  {
   "cell_type": "code",
   "execution_count": 14,
   "id": "5a33269a",
   "metadata": {},
   "outputs": [],
   "source": [
    "arr.remove(']]]')"
   ]
  },
  {
   "cell_type": "code",
   "execution_count": 15,
   "id": "dfa2c98e",
   "metadata": {},
   "outputs": [
    {
     "data": {
      "text/plain": [
       "[1, 2, 3, 4, 5, 6]"
      ]
     },
     "execution_count": 15,
     "metadata": {},
     "output_type": "execute_result"
    }
   ],
   "source": [
    "arr"
   ]
  },
  {
   "cell_type": "markdown",
   "id": "d015889f",
   "metadata": {},
   "source": [
    "Question 4"
   ]
  },
  {
   "cell_type": "code",
   "execution_count": 34,
   "id": "1ed65f23",
   "metadata": {},
   "outputs": [
    {
     "name": "stdout",
     "output_type": "stream",
     "text": [
      "fruits before:  {'apple': 200, 'banana': 40, 'mango': 500}\n",
      "fruits after:  {'mango': 500, 'banana': 40, 'apple': 200}\n"
     ]
    }
   ],
   "source": [
    "fruits = {\n",
    "    'apple':200,\n",
    "    'banana':40,\n",
    "    'mango':500\n",
    "}\n",
    "print('fruits before: ',fruits)\n",
    "fruits = dict(list(fruits.items())[::-1])\n",
    "print('fruits after: ',fruits)"
   ]
  },
  {
   "cell_type": "markdown",
   "id": "fa13af3a",
   "metadata": {},
   "source": [
    "Question 5"
   ]
  },
  {
   "cell_type": "code",
   "execution_count": 39,
   "id": "e7885b58",
   "metadata": {},
   "outputs": [
    {
     "name": "stdout",
     "output_type": "stream",
     "text": [
      "arr1 [1, 2, 3, 4, 5, 6, 7]\n",
      "arr2 [2, 4, 6, 6, 7, 10]\n",
      "Common elements: [2, 4, 6, 7]\n"
     ]
    }
   ],
   "source": [
    "arr1 = [1, 2, 3, 4, 5, 6, 7]\n",
    "arr2 = [2, 4, 6, 6, 7, 10]\n",
    "arr1.sort()\n",
    "arr2.sort()\n",
    "\n",
    "print(\"arr1\", arr1)\n",
    "print(\"arr2\", arr2)\n",
    "\n",
    "i, j = 0, 0\n",
    "common_elements = []\n",
    "\n",
    "while i < len(arr1) and j < len(arr2):\n",
    "    if arr1[i] == arr2[j]:\n",
    "        common_elements.append(arr1[i])\n",
    "        \n",
    "        while i + 1 < len(arr1) and arr1[i] == arr1[i + 1]:\n",
    "            i += 1\n",
    "        while j + 1 < len(arr2) and arr2[j] == arr2[j + 1]:\n",
    "            j += 1\n",
    "        \n",
    "        i += 1\n",
    "        j += 1\n",
    "    elif arr1[i] < arr2[j]:\n",
    "        i += 1\n",
    "    else:\n",
    "        j += 1\n",
    "\n",
    "print(\"Common elements:\", common_elements)"
   ]
  },
  {
   "cell_type": "markdown",
   "id": "261e283a",
   "metadata": {},
   "source": [
    "Question 6"
   ]
  },
  {
   "cell_type": "code",
   "execution_count": null,
   "id": "174a7793",
   "metadata": {},
   "outputs": [],
   "source": [
    "arr = [1, 2, 4, 6, 3, 7, 8]\n",
    "n = len(arr) + 1\n",
    "total_sum = n * (n + 1) // 2\n",
    "\n",
    "actual_sum = sum(arr)  # Sum of elements in the array\n",
    "\n",
    "missing_element = total_sum - actual_sum  # The missing element\n",
    "return missing_element\n",
    "\n",
    "\n",
    "missing_element = find_missing_element(arr)\n",
    "print(\"Missing element:\", missing_element)\n"
   ]
  }
 ],
 "metadata": {
  "kernelspec": {
   "display_name": "Python 3 (ipykernel)",
   "language": "python",
   "name": "python3"
  },
  "language_info": {
   "codemirror_mode": {
    "name": "ipython",
    "version": 3
   },
   "file_extension": ".py",
   "mimetype": "text/x-python",
   "name": "python",
   "nbconvert_exporter": "python",
   "pygments_lexer": "ipython3",
   "version": "3.10.1"
  }
 },
 "nbformat": 4,
 "nbformat_minor": 5
}
